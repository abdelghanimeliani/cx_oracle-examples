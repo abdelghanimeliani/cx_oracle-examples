{
 "cells": [
  {
   "cell_type": "markdown",
   "id": "0a7ec6fb",
   "metadata": {},
   "source": [
    "# cx_oracle examples\n",
    "## debut des tests"
   ]
  },
  {
   "cell_type": "code",
   "execution_count": 1,
   "id": "5e936320",
   "metadata": {},
   "outputs": [
    {
     "name": "stdout",
     "output_type": "stream",
     "text": [
      "debut des tests\n"
     ]
    }
   ],
   "source": [
    "print(\"debut des tests\") "
   ]
  },
  {
   "cell_type": "markdown",
   "id": "54eb497b",
   "metadata": {},
   "source": [
    "## initialisation d'oracle client \n",
    "il faut telecharger instant client depuis le cite d'oracle avant  , extraire les fichiers dans C:\\oracle\\instantclient_21_3\n",
    "avant d'executer cette entrée"
   ]
  },
  {
   "cell_type": "code",
   "execution_count": 2,
   "id": "8c1f5eff",
   "metadata": {},
   "outputs": [],
   "source": [
    "import cx_Oracle\n",
    "cx_Oracle.init_oracle_client(lib_dir=r\"C:\\oracle\\instantclient_21_3\")\n",
    "\n",
    "\n"
   ]
  },
  {
   "cell_type": "markdown",
   "id": "97124314",
   "metadata": {},
   "source": [
    "## connexion a la base de donnée HR \n",
    "cette entrée montre comment faire une connecxion a la base de donnée HR \n",
    "le nom d'utilisateur de cette BDD c'est 'hr' , le mot de passe aussi .\n",
    "l'instance de cette BDD s'execute actuelement sur mon localhost donc j'ai preciser 'localhost/xe' comme nom de DNS\n"
   ]
  },
  {
   "cell_type": "code",
   "execution_count": 3,
   "id": "1b115d71",
   "metadata": {},
   "outputs": [
    {
     "name": "stdout",
     "output_type": "stream",
     "text": [
      "la version de la base de donnée: 11.2.0.2.0\n",
      "connection a la base de données hr faite avec succée\n"
     ]
    }
   ],
   "source": [
    "import cx_Oracle\n",
    "\n",
    "con = cx_Oracle.connect(user=r'hr', password='hr', dsn='localhost/xe')\n",
    "print(\"la version de la base de donnée:\", con.version)\n",
    "print('connection a la base de données hr faite avec succée')"
   ]
  },
  {
   "cell_type": "markdown",
   "id": "46fbe474",
   "metadata": {},
   "source": [
    "## executer une simple requete pour se debuter \n",
    "cette entrées montre l'execution d'une reqeutte select appliquée a la table employees du shcema de la bdd hr montrée ci-dessous ,  a travere un curseur\n",
    "\n",
    "![chema](https://raw.githubusercontent.com/abdelghanimeliani/cx_oracle-examples/master/images/hr.png?token=GHSAT0AAAAAABQADLGYCVNXTZYMTKKN7SVOYVBLF4Q )\n",
    "\n",
    "\n",
    "la requette est terminée avec succes sauf qu'elle n'affiche rien jusqu'a present "
   ]
  },
  {
   "cell_type": "code",
   "execution_count": 4,
   "id": "752cad25",
   "metadata": {},
   "outputs": [
    {
     "data": {
      "text/plain": [
       "<cx_Oracle.Cursor on <cx_Oracle.Connection to hr@localhost/xe>>"
      ]
     },
     "execution_count": 4,
     "metadata": {},
     "output_type": "execute_result"
    }
   ],
   "source": [
    "cursor = con.cursor()\n",
    "cursor.execute('select * from employees') "
   ]
  },
  {
   "cell_type": "markdown",
   "id": "9b8c970d",
   "metadata": {},
   "source": [
    "## affichage des lignes une par une"
   ]
  },
  {
   "cell_type": "code",
   "execution_count": 5,
   "id": "f28b3022",
   "metadata": {},
   "outputs": [
    {
     "name": "stdout",
     "output_type": "stream",
     "text": [
      "(100, 'Steven', 'King', 'SKING', '515.123.4567', datetime.datetime(2003, 6, 17, 0, 0), 'AD_PRES', 24000.0, None, None, 90)\n",
      "(101, 'Neena', 'Kochhar', 'NKOCHHAR', '515.123.4568', datetime.datetime(2005, 9, 21, 0, 0), 'AD_VP', 17000.0, None, 100, 90)\n",
      "(102, 'Lex', 'De Haan', 'LDEHAAN', '515.123.4569', datetime.datetime(2001, 1, 13, 0, 0), 'AD_VP', 17000.0, None, 100, 90)\n",
      "(103, 'Alexander', 'Hunold', 'AHUNOLD', '590.423.4567', datetime.datetime(2006, 1, 3, 0, 0), 'IT_PROG', 9000.0, None, 102, 60)\n",
      "(104, 'Bruce', 'Ernst', 'BERNST', '590.423.4568', datetime.datetime(2007, 5, 21, 0, 0), 'IT_PROG', 6000.0, None, 103, 60)\n",
      "(105, 'David', 'Austin', 'DAUSTIN', '590.423.4569', datetime.datetime(2005, 6, 25, 0, 0), 'IT_PROG', 4800.0, None, 103, 60)\n",
      "(106, 'Valli', 'Pataballa', 'VPATABAL', '590.423.4560', datetime.datetime(2006, 2, 5, 0, 0), 'IT_PROG', 4800.0, None, 103, 60)\n",
      "(107, 'Diana', 'Lorentz', 'DLORENTZ', '590.423.5567', datetime.datetime(2007, 2, 7, 0, 0), 'IT_PROG', 4200.0, None, 103, 60)\n",
      "(108, 'Nancy', 'Greenberg', 'NGREENBE', '515.124.4569', datetime.datetime(2002, 8, 17, 0, 0), 'FI_MGR', 12008.0, None, 101, 100)\n",
      "(109, 'Daniel', 'Faviet', 'DFAVIET', '515.124.4169', datetime.datetime(2002, 8, 16, 0, 0), 'FI_ACCOUNT', 9000.0, None, 108, 100)\n",
      "(110, 'John', 'Chen', 'JCHEN', '515.124.4269', datetime.datetime(2005, 9, 28, 0, 0), 'FI_ACCOUNT', 8200.0, None, 108, 100)\n",
      "(111, 'Ismael', 'Sciarra', 'ISCIARRA', '515.124.4369', datetime.datetime(2005, 9, 30, 0, 0), 'FI_ACCOUNT', 7700.0, None, 108, 100)\n",
      "(112, 'Jose Manuel', 'Urman', 'JMURMAN', '515.124.4469', datetime.datetime(2006, 3, 7, 0, 0), 'FI_ACCOUNT', 7800.0, None, 108, 100)\n",
      "(113, 'Luis', 'Popp', 'LPOPP', '515.124.4567', datetime.datetime(2007, 12, 7, 0, 0), 'FI_ACCOUNT', 6900.0, None, 108, 100)\n",
      "(114, 'Den', 'Raphaely', 'DRAPHEAL', '515.127.4561', datetime.datetime(2002, 12, 7, 0, 0), 'PU_MAN', 11000.0, None, 100, 30)\n",
      "(115, 'Alexander', 'Khoo', 'AKHOO', '515.127.4562', datetime.datetime(2003, 5, 18, 0, 0), 'PU_CLERK', 3100.0, None, 114, 30)\n",
      "(116, 'Shelli', 'Baida', 'SBAIDA', '515.127.4563', datetime.datetime(2005, 12, 24, 0, 0), 'PU_CLERK', 2900.0, None, 114, 30)\n",
      "(117, 'Sigal', 'Tobias', 'STOBIAS', '515.127.4564', datetime.datetime(2005, 7, 24, 0, 0), 'PU_CLERK', 2800.0, None, 114, 30)\n",
      "(118, 'Guy', 'Himuro', 'GHIMURO', '515.127.4565', datetime.datetime(2006, 11, 15, 0, 0), 'PU_CLERK', 2600.0, None, 114, 30)\n",
      "(119, 'Karen', 'Colmenares', 'KCOLMENA', '515.127.4566', datetime.datetime(2007, 8, 10, 0, 0), 'PU_CLERK', 2500.0, None, 114, 30)\n",
      "(120, 'Matthew', 'Weiss', 'MWEISS', '650.123.1234', datetime.datetime(2004, 7, 18, 0, 0), 'ST_MAN', 8000.0, None, 100, 50)\n",
      "(121, 'Adam', 'Fripp', 'AFRIPP', '650.123.2234', datetime.datetime(2005, 4, 10, 0, 0), 'ST_MAN', 8200.0, None, 100, 50)\n",
      "(122, 'Payam', 'Kaufling', 'PKAUFLIN', '650.123.3234', datetime.datetime(2003, 5, 1, 0, 0), 'ST_MAN', 7900.0, None, 100, 50)\n",
      "(123, 'Shanta', 'Vollman', 'SVOLLMAN', '650.123.4234', datetime.datetime(2005, 10, 10, 0, 0), 'ST_MAN', 6500.0, None, 100, 50)\n",
      "(124, 'Kevin', 'Mourgos', 'KMOURGOS', '650.123.5234', datetime.datetime(2007, 11, 16, 0, 0), 'ST_MAN', 5800.0, None, 100, 50)\n",
      "(125, 'Julia', 'Nayer', 'JNAYER', '650.124.1214', datetime.datetime(2005, 7, 16, 0, 0), 'ST_CLERK', 3200.0, None, 120, 50)\n",
      "(126, 'Irene', 'Mikkilineni', 'IMIKKILI', '650.124.1224', datetime.datetime(2006, 9, 28, 0, 0), 'ST_CLERK', 2700.0, None, 120, 50)\n",
      "(127, 'James', 'Landry', 'JLANDRY', '650.124.1334', datetime.datetime(2007, 1, 14, 0, 0), 'ST_CLERK', 2400.0, None, 120, 50)\n",
      "(128, 'Steven', 'Markle', 'SMARKLE', '650.124.1434', datetime.datetime(2008, 3, 8, 0, 0), 'ST_CLERK', 2200.0, None, 120, 50)\n",
      "(129, 'Laura', 'Bissot', 'LBISSOT', '650.124.5234', datetime.datetime(2005, 8, 20, 0, 0), 'ST_CLERK', 3300.0, None, 121, 50)\n",
      "(130, 'Mozhe', 'Atkinson', 'MATKINSO', '650.124.6234', datetime.datetime(2005, 10, 30, 0, 0), 'ST_CLERK', 2800.0, None, 121, 50)\n",
      "(131, 'James', 'Marlow', 'JAMRLOW', '650.124.7234', datetime.datetime(2005, 2, 16, 0, 0), 'ST_CLERK', 2500.0, None, 121, 50)\n",
      "(132, 'TJ', 'Olson', 'TJOLSON', '650.124.8234', datetime.datetime(2007, 4, 10, 0, 0), 'ST_CLERK', 2100.0, None, 121, 50)\n",
      "(133, 'Jason', 'Mallin', 'JMALLIN', '650.127.1934', datetime.datetime(2004, 6, 14, 0, 0), 'ST_CLERK', 3300.0, None, 122, 50)\n",
      "(134, 'Michael', 'Rogers', 'MROGERS', '650.127.1834', datetime.datetime(2006, 8, 26, 0, 0), 'ST_CLERK', 2900.0, None, 122, 50)\n",
      "(135, 'Ki', 'Gee', 'KGEE', '650.127.1734', datetime.datetime(2007, 12, 12, 0, 0), 'ST_CLERK', 2400.0, None, 122, 50)\n",
      "(136, 'Hazel', 'Philtanker', 'HPHILTAN', '650.127.1634', datetime.datetime(2008, 2, 6, 0, 0), 'ST_CLERK', 2200.0, None, 122, 50)\n",
      "(137, 'Renske', 'Ladwig', 'RLADWIG', '650.121.1234', datetime.datetime(2003, 7, 14, 0, 0), 'ST_CLERK', 3600.0, None, 123, 50)\n",
      "(138, 'Stephen', 'Stiles', 'SSTILES', '650.121.2034', datetime.datetime(2005, 10, 26, 0, 0), 'ST_CLERK', 3200.0, None, 123, 50)\n",
      "(139, 'John', 'Seo', 'JSEO', '650.121.2019', datetime.datetime(2006, 2, 12, 0, 0), 'ST_CLERK', 2700.0, None, 123, 50)\n",
      "(140, 'Joshua', 'Patel', 'JPATEL', '650.121.1834', datetime.datetime(2006, 4, 6, 0, 0), 'ST_CLERK', 2500.0, None, 123, 50)\n",
      "(141, 'Trenna', 'Rajs', 'TRAJS', '650.121.8009', datetime.datetime(2003, 10, 17, 0, 0), 'ST_CLERK', 3500.0, None, 124, 50)\n",
      "(142, 'Curtis', 'Davies', 'CDAVIES', '650.121.2994', datetime.datetime(2005, 1, 29, 0, 0), 'ST_CLERK', 3100.0, None, 124, 50)\n",
      "(143, 'Randall', 'Matos', 'RMATOS', '650.121.2874', datetime.datetime(2006, 3, 15, 0, 0), 'ST_CLERK', 2600.0, None, 124, 50)\n",
      "(144, 'Peter', 'Vargas', 'PVARGAS', '650.121.2004', datetime.datetime(2006, 7, 9, 0, 0), 'ST_CLERK', 2500.0, None, 124, 50)\n",
      "(145, 'John', 'Russell', 'JRUSSEL', '011.44.1344.429268', datetime.datetime(2004, 10, 1, 0, 0), 'SA_MAN', 14000.0, 0.4, 100, 80)\n",
      "(146, 'Karen', 'Partners', 'KPARTNER', '011.44.1344.467268', datetime.datetime(2005, 1, 5, 0, 0), 'SA_MAN', 13500.0, 0.3, 100, 80)\n",
      "(147, 'Alberto', 'Errazuriz', 'AERRAZUR', '011.44.1344.429278', datetime.datetime(2005, 3, 10, 0, 0), 'SA_MAN', 12000.0, 0.3, 100, 80)\n",
      "(148, 'Gerald', 'Cambrault', 'GCAMBRAU', '011.44.1344.619268', datetime.datetime(2007, 10, 15, 0, 0), 'SA_MAN', 11000.0, 0.3, 100, 80)\n",
      "(149, 'Eleni', 'Zlotkey', 'EZLOTKEY', '011.44.1344.429018', datetime.datetime(2008, 1, 29, 0, 0), 'SA_MAN', 10500.0, 0.2, 100, 80)\n",
      "(150, 'Peter', 'Tucker', 'PTUCKER', '011.44.1344.129268', datetime.datetime(2005, 1, 30, 0, 0), 'SA_REP', 10000.0, 0.3, 145, 80)\n",
      "(151, 'David', 'Bernstein', 'DBERNSTE', '011.44.1344.345268', datetime.datetime(2005, 3, 24, 0, 0), 'SA_REP', 9500.0, 0.25, 145, 80)\n",
      "(152, 'Peter', 'Hall', 'PHALL', '011.44.1344.478968', datetime.datetime(2005, 8, 20, 0, 0), 'SA_REP', 9000.0, 0.25, 145, 80)\n",
      "(153, 'Christopher', 'Olsen', 'COLSEN', '011.44.1344.498718', datetime.datetime(2006, 3, 30, 0, 0), 'SA_REP', 8000.0, 0.2, 145, 80)\n",
      "(154, 'Nanette', 'Cambrault', 'NCAMBRAU', '011.44.1344.987668', datetime.datetime(2006, 12, 9, 0, 0), 'SA_REP', 7500.0, 0.2, 145, 80)\n",
      "(155, 'Oliver', 'Tuvault', 'OTUVAULT', '011.44.1344.486508', datetime.datetime(2007, 11, 23, 0, 0), 'SA_REP', 7000.0, 0.15, 145, 80)\n",
      "(156, 'Janette', 'King', 'JKING', '011.44.1345.429268', datetime.datetime(2004, 1, 30, 0, 0), 'SA_REP', 10000.0, 0.35, 146, 80)\n",
      "(157, 'Patrick', 'Sully', 'PSULLY', '011.44.1345.929268', datetime.datetime(2004, 3, 4, 0, 0), 'SA_REP', 9500.0, 0.35, 146, 80)\n",
      "(158, 'Allan', 'McEwen', 'AMCEWEN', '011.44.1345.829268', datetime.datetime(2004, 8, 1, 0, 0), 'SA_REP', 9000.0, 0.35, 146, 80)\n",
      "(159, 'Lindsey', 'Smith', 'LSMITH', '011.44.1345.729268', datetime.datetime(2005, 3, 10, 0, 0), 'SA_REP', 8000.0, 0.3, 146, 80)\n",
      "(160, 'Louise', 'Doran', 'LDORAN', '011.44.1345.629268', datetime.datetime(2005, 12, 15, 0, 0), 'SA_REP', 7500.0, 0.3, 146, 80)\n",
      "(161, 'Sarath', 'Sewall', 'SSEWALL', '011.44.1345.529268', datetime.datetime(2006, 11, 3, 0, 0), 'SA_REP', 7000.0, 0.25, 146, 80)\n",
      "(162, 'Clara', 'Vishney', 'CVISHNEY', '011.44.1346.129268', datetime.datetime(2005, 11, 11, 0, 0), 'SA_REP', 10500.0, 0.25, 147, 80)\n",
      "(163, 'Danielle', 'Greene', 'DGREENE', '011.44.1346.229268', datetime.datetime(2007, 3, 19, 0, 0), 'SA_REP', 9500.0, 0.15, 147, 80)\n",
      "(164, 'Mattea', 'Marvins', 'MMARVINS', '011.44.1346.329268', datetime.datetime(2008, 1, 24, 0, 0), 'SA_REP', 7200.0, 0.1, 147, 80)\n",
      "(165, 'David', 'Lee', 'DLEE', '011.44.1346.529268', datetime.datetime(2008, 2, 23, 0, 0), 'SA_REP', 6800.0, 0.1, 147, 80)\n",
      "(166, 'Sundar', 'Ande', 'SANDE', '011.44.1346.629268', datetime.datetime(2008, 3, 24, 0, 0), 'SA_REP', 6400.0, 0.1, 147, 80)\n",
      "(167, 'Amit', 'Banda', 'ABANDA', '011.44.1346.729268', datetime.datetime(2008, 4, 21, 0, 0), 'SA_REP', 6200.0, 0.1, 147, 80)\n",
      "(168, 'Lisa', 'Ozer', 'LOZER', '011.44.1343.929268', datetime.datetime(2005, 3, 11, 0, 0), 'SA_REP', 11500.0, 0.25, 148, 80)\n",
      "(169, 'Harrison', 'Bloom', 'HBLOOM', '011.44.1343.829268', datetime.datetime(2006, 3, 23, 0, 0), 'SA_REP', 10000.0, 0.2, 148, 80)\n",
      "(170, 'Tayler', 'Fox', 'TFOX', '011.44.1343.729268', datetime.datetime(2006, 1, 24, 0, 0), 'SA_REP', 9600.0, 0.2, 148, 80)\n",
      "(171, 'William', 'Smith', 'WSMITH', '011.44.1343.629268', datetime.datetime(2007, 2, 23, 0, 0), 'SA_REP', 7400.0, 0.15, 148, 80)\n",
      "(172, 'Elizabeth', 'Bates', 'EBATES', '011.44.1343.529268', datetime.datetime(2007, 3, 24, 0, 0), 'SA_REP', 7300.0, 0.15, 148, 80)\n",
      "(173, 'Sundita', 'Kumar', 'SKUMAR', '011.44.1343.329268', datetime.datetime(2008, 4, 21, 0, 0), 'SA_REP', 6100.0, 0.1, 148, 80)\n",
      "(174, 'Ellen', 'Abel', 'EABEL', '011.44.1644.429267', datetime.datetime(2004, 5, 11, 0, 0), 'SA_REP', 11000.0, 0.3, 149, 80)\n",
      "(175, 'Alyssa', 'Hutton', 'AHUTTON', '011.44.1644.429266', datetime.datetime(2005, 3, 19, 0, 0), 'SA_REP', 8800.0, 0.25, 149, 80)\n",
      "(176, 'Jonathon', 'Taylor', 'JTAYLOR', '011.44.1644.429265', datetime.datetime(2006, 3, 24, 0, 0), 'SA_REP', 8600.0, 0.2, 149, 80)\n",
      "(177, 'Jack', 'Livingston', 'JLIVINGS', '011.44.1644.429264', datetime.datetime(2006, 4, 23, 0, 0), 'SA_REP', 8400.0, 0.2, 149, 80)\n",
      "(178, 'Kimberely', 'Grant', 'KGRANT', '011.44.1644.429263', datetime.datetime(2007, 5, 24, 0, 0), 'SA_REP', 7000.0, 0.15, 149, None)\n",
      "(179, 'Charles', 'Johnson', 'CJOHNSON', '011.44.1644.429262', datetime.datetime(2008, 1, 4, 0, 0), 'SA_REP', 6200.0, 0.1, 149, 80)\n",
      "(180, 'Winston', 'Taylor', 'WTAYLOR', '650.507.9876', datetime.datetime(2006, 1, 24, 0, 0), 'SH_CLERK', 3200.0, None, 120, 50)\n",
      "(181, 'Jean', 'Fleaur', 'JFLEAUR', '650.507.9877', datetime.datetime(2006, 2, 23, 0, 0), 'SH_CLERK', 3100.0, None, 120, 50)\n",
      "(182, 'Martha', 'Sullivan', 'MSULLIVA', '650.507.9878', datetime.datetime(2007, 6, 21, 0, 0), 'SH_CLERK', 2500.0, None, 120, 50)\n",
      "(183, 'Girard', 'Geoni', 'GGEONI', '650.507.9879', datetime.datetime(2008, 2, 3, 0, 0), 'SH_CLERK', 2800.0, None, 120, 50)\n",
      "(184, 'Nandita', 'Sarchand', 'NSARCHAN', '650.509.1876', datetime.datetime(2004, 1, 27, 0, 0), 'SH_CLERK', 4200.0, None, 121, 50)\n",
      "(185, 'Alexis', 'Bull', 'ABULL', '650.509.2876', datetime.datetime(2005, 2, 20, 0, 0), 'SH_CLERK', 4100.0, None, 121, 50)\n",
      "(186, 'Julia', 'Dellinger', 'JDELLING', '650.509.3876', datetime.datetime(2006, 6, 24, 0, 0), 'SH_CLERK', 3400.0, None, 121, 50)\n",
      "(187, 'Anthony', 'Cabrio', 'ACABRIO', '650.509.4876', datetime.datetime(2007, 2, 7, 0, 0), 'SH_CLERK', 3000.0, None, 121, 50)\n",
      "(188, 'Kelly', 'Chung', 'KCHUNG', '650.505.1876', datetime.datetime(2005, 6, 14, 0, 0), 'SH_CLERK', 3800.0, None, 122, 50)\n",
      "(189, 'Jennifer', 'Dilly', 'JDILLY', '650.505.2876', datetime.datetime(2005, 8, 13, 0, 0), 'SH_CLERK', 3600.0, None, 122, 50)\n",
      "(190, 'Timothy', 'Gates', 'TGATES', '650.505.3876', datetime.datetime(2006, 7, 11, 0, 0), 'SH_CLERK', 2900.0, None, 122, 50)\n",
      "(191, 'Randall', 'Perkins', 'RPERKINS', '650.505.4876', datetime.datetime(2007, 12, 19, 0, 0), 'SH_CLERK', 2500.0, None, 122, 50)\n",
      "(192, 'Sarah', 'Bell', 'SBELL', '650.501.1876', datetime.datetime(2004, 2, 4, 0, 0), 'SH_CLERK', 4000.0, None, 123, 50)\n",
      "(193, 'Britney', 'Everett', 'BEVERETT', '650.501.2876', datetime.datetime(2005, 3, 3, 0, 0), 'SH_CLERK', 3900.0, None, 123, 50)\n",
      "(194, 'Samuel', 'McCain', 'SMCCAIN', '650.501.3876', datetime.datetime(2006, 7, 1, 0, 0), 'SH_CLERK', 3200.0, None, 123, 50)\n",
      "(195, 'Vance', 'Jones', 'VJONES', '650.501.4876', datetime.datetime(2007, 3, 17, 0, 0), 'SH_CLERK', 2800.0, None, 123, 50)\n",
      "(196, 'Alana', 'Walsh', 'AWALSH', '650.507.9811', datetime.datetime(2006, 4, 24, 0, 0), 'SH_CLERK', 3100.0, None, 124, 50)\n",
      "(197, 'Kevin', 'Feeney', 'KFEENEY', '650.507.9822', datetime.datetime(2006, 5, 23, 0, 0), 'SH_CLERK', 3000.0, None, 124, 50)\n",
      "(198, 'Donald', 'OConnell', 'DOCONNEL', '650.507.9833', datetime.datetime(2007, 6, 21, 0, 0), 'SH_CLERK', 2600.0, None, 124, 50)\n",
      "(199, 'Douglas', 'Grant', 'DGRANT', '650.507.9844', datetime.datetime(2008, 1, 13, 0, 0), 'SH_CLERK', 2600.0, None, 124, 50)\n",
      "(200, 'Jennifer', 'Whalen', 'JWHALEN', '515.123.4444', datetime.datetime(2003, 9, 17, 0, 0), 'AD_ASST', 4400.0, None, 101, 10)\n",
      "(201, 'Michael', 'Hartstein', 'MHARTSTE', '515.123.5555', datetime.datetime(2004, 2, 17, 0, 0), 'MK_MAN', 13000.0, None, 100, 20)\n",
      "(202, 'Pat', 'Fay', 'PFAY', '603.123.6666', datetime.datetime(2005, 8, 17, 0, 0), 'MK_REP', 6000.0, None, 201, 20)\n",
      "(203, 'Susan', 'Mavris', 'SMAVRIS', '515.123.7777', datetime.datetime(2002, 6, 7, 0, 0), 'HR_REP', 6500.0, None, 101, 40)\n",
      "(204, 'Hermann', 'Baer', 'HBAER', '515.123.8888', datetime.datetime(2002, 6, 7, 0, 0), 'PR_REP', 10000.0, None, 101, 70)\n",
      "(205, 'Shelley', 'Higgins', 'SHIGGINS', '515.123.8080', datetime.datetime(2002, 6, 7, 0, 0), 'AC_MGR', 12008.0, None, 101, 110)\n",
      "(206, 'William', 'Gietz', 'WGIETZ', '515.123.8181', datetime.datetime(2002, 6, 7, 0, 0), 'AC_ACCOUNT', 8300.0, None, 205, 110)\n",
      "**********************************\n",
      "requette select faite avec succes\n"
     ]
    }
   ],
   "source": [
    "cursor = con.cursor()\n",
    "cursor.execute('select * from employees') \n",
    "res = cursor.fetchall()\n",
    "for row in res:\n",
    "    print(row)\n",
    "print('**********************************')\n",
    "print('requette select faite avec succes')\n"
   ]
  },
  {
   "cell_type": "markdown",
   "id": "d1b86c6b",
   "metadata": {},
   "source": [
    "## fermiture de la connecxion"
   ]
  },
  {
   "cell_type": "code",
   "execution_count": 6,
   "id": "f68cf06c",
   "metadata": {},
   "outputs": [],
   "source": [
    "cursor.close()\n",
    "con.close()"
   ]
  },
  {
   "cell_type": "markdown",
   "id": "1f5597a4",
   "metadata": {},
   "source": [
    "\n",
    "## Mise en commun des connexions\n",
    "La mise en commun des connexions est importante pour les performances lorsque des applications multithreads se connectent et se déconnectent fréquemment de la base de données. La mise en commun offre également la meilleure prise en charge des fonctions de haute disponibilité d'Oracle. pour plus de documentation s'il vous plait consultez le rapport attaché"
   ]
  },
  {
   "cell_type": "code",
   "execution_count": null,
   "id": "aa583420",
   "metadata": {},
   "outputs": [],
   "source": []
  },
  {
   "cell_type": "code",
   "execution_count": 8,
   "id": "2f35d667",
   "metadata": {},
   "outputs": [
    {
     "name": "stdout",
     "output_type": "stream",
     "text": [
      "Thread #1 fetched sequence = Ellen\n",
      "Thread #2 fetched sequence = Ellen\n",
      "Thread #1 fetched sequence = Ellen\n",
      "Thread #2 fetched sequence = Ellen\n",
      "Thread #1 fetched sequence = Ellen\n",
      "Thread #2 fetched sequence = Ellen\n",
      "Thread #1 fetched sequence = Ellen\n",
      "Thread #2 fetched sequence = Ellen\n",
      "All done!\n"
     ]
    }
   ],
   "source": [
    "import cx_Oracle\n",
    "import threading\n",
    "\n",
    "\n",
    "pool = cx_Oracle.SessionPool(user=r'hr', password='hr', dsn='localhost/xe',\n",
    "                             min = 2, max = 5, increment = 1, threaded = True,\n",
    "                             getmode = cx_Oracle.SPOOL_ATTRVAL_WAIT)\n",
    "\n",
    "def Query():\n",
    "    con = pool.acquire()\n",
    "    cur = con.cursor()\n",
    "    for i in range(4):\n",
    "        cur.execute(\"select first_name from employees\")\n",
    "        seqval, = cur.fetchone()\n",
    "        print(\"Thread\", threading.current_thread().name, \"fetched sequence =\", seqval)\n",
    "\n",
    "thread1 = threading.Thread(name='#1', target=Query )\n",
    "thread1.start()\n",
    "\n",
    "thread2 = threading.Thread(name='#2', target=Query )\n",
    "thread2.start()\n",
    "\n",
    "thread1.join(0.1)\n",
    "thread2.join()\n",
    "\n",
    "\n",
    "print(\"All done!\")"
   ]
  },
  {
   "cell_type": "markdown",
   "id": "bba1f15f",
   "metadata": {},
   "source": [
    "une boucle pour le nombre de threads, chaque itération invoquant la méthode Query() :"
   ]
  },
  {
   "cell_type": "code",
   "execution_count": 10,
   "id": "308c71d6",
   "metadata": {},
   "outputs": [
    {
     "name": "stdout",
     "output_type": "stream",
     "text": [
      "Thread #1 fetched sequence = Abel\n",
      "Thread #0 fetched sequence = Abel\n",
      "Thread #1 fetched sequence = Abel\n",
      "Thread #0 fetched sequence = Abel\n",
      "Thread #1 fetched sequence = Abel\n",
      "Thread #0 fetched sequence = Abel\n",
      "Thread #1 fetched sequence = Abel\n",
      "Thread #0 fetched sequence = Abel\n",
      "All done!\n"
     ]
    }
   ],
   "source": [
    "import cx_Oracle\n",
    "import threading\n",
    "\n",
    "\n",
    "pool = cx_Oracle.SessionPool(user=r'hr', password='hr', dsn='localhost/xe',\n",
    "                             min = 2, max = 5, increment = 1, threaded = True,\n",
    "                             getmode = cx_Oracle.SPOOL_ATTRVAL_WAIT)\n",
    "\n",
    "def Query():\n",
    "    con = pool.acquire()\n",
    "    cur = con.cursor()\n",
    "    for i in range(4):\n",
    "        cur.execute(\"select last_name from employees\")\n",
    "        seqval, = cur.fetchone()\n",
    "        print(\"Thread\", threading.current_thread().name, \"fetched sequence =\", seqval)\n",
    "\n",
    "numberOfThreads = 2\n",
    "threadArray = []\n",
    "\n",
    "for i in range(numberOfThreads):\n",
    "    thread = threading.Thread(name = '#' + str(i), target = Query)\n",
    "    threadArray.append(thread)\n",
    "    thread.start()\n",
    "\n",
    "for t in threadArray:\n",
    "    t.join()\n",
    "\n",
    "print(\"All done!\")\n",
    "\n",
    "\n",
    "\n",
    " "
   ]
  },
  {
   "cell_type": "markdown",
   "id": "568ae770",
   "metadata": {},
   "source": [
    "## Récupération des données\n",
    "### Une requête simple\n",
    "Il existe un certain nombre de fonctions que vous pouvez utiliser pour interroger une base de données Oracle, mais les bases de l'interrogation sont toujours les mêmes :\n",
    "\n",
    "1. Exécuter l'instruction.\n",
    "2. Lier les valeurs des données (facultatif).\n",
    "3. Récupérer les résultats de la base de données."
   ]
  },
  {
   "cell_type": "markdown",
   "id": "dc918bac",
   "metadata": {},
   "source": [
    "La méthode cursor() ouvre un curseur pour les instructions à utiliser.\n",
    "\n",
    "La méthode execute() analyse et exécute l'instruction.\n",
    "\n",
    "La boucle récupère chaque ligne du curseur et décompose le tuple retourné dans les variables deptno, dname, loc, qui sont ensuite imprimées."
   ]
  },
  {
   "cell_type": "markdown",
   "id": "916b4e6b",
   "metadata": {},
   "source": [
    "### en utilisant la methode fetchone()"
   ]
  },
  {
   "cell_type": "code",
   "execution_count": 11,
   "id": "a19dd7a1",
   "metadata": {},
   "outputs": [
    {
     "name": "stdout",
     "output_type": "stream",
     "text": [
      "dans cet exemple on vas appliquer la methode fetchone() deux fois donc selectionner\n",
      "(100, 'Steven', 'King', 'SKING', '515.123.4567', datetime.datetime(2003, 6, 17, 0, 0), 'AD_PRES', 24000.0, None, None, 90)\n",
      "(101, 'Neena', 'Kochhar', 'NKOCHHAR', '515.123.4568', datetime.datetime(2005, 9, 21, 0, 0), 'AD_VP', 17000.0, None, 100, 90)\n"
     ]
    }
   ],
   "source": [
    "import cx_Oracle\n",
    "\n",
    "print('dans cet exemple on vas appliquer la methode fetchone() deux fois donc selectionner')\n",
    "con = cx_Oracle.connect(user=r'hr', password='hr', dsn='localhost/xe',)\n",
    "cur = con.cursor()\n",
    "\n",
    "cur.execute(\"select * from employees\")\n",
    "row = cur.fetchone()\n",
    "print(row)\n",
    "\n",
    "row = cur.fetchone()\n",
    "print(row)"
   ]
  },
  {
   "cell_type": "markdown",
   "id": "65f4c63a",
   "metadata": {},
   "source": [
    "### en utilisant la methode fetchone()"
   ]
  },
  {
   "cell_type": "code",
   "execution_count": 12,
   "id": "9f898c35",
   "metadata": {},
   "outputs": [
    {
     "name": "stdout",
     "output_type": "stream",
     "text": [
      "chercher 3 element de la table employees\n",
      "[(100, 'Steven', 'King', 'SKING', '515.123.4567', datetime.datetime(2003, 6, 17, 0, 0), 'AD_PRES', 24000.0, None, None, 90), (101, 'Neena', 'Kochhar', 'NKOCHHAR', '515.123.4568', datetime.datetime(2005, 9, 21, 0, 0), 'AD_VP', 17000.0, None, 100, 90), (102, 'Lex', 'De Haan', 'LDEHAAN', '515.123.4569', datetime.datetime(2001, 1, 13, 0, 0), 'AD_VP', 17000.0, None, 100, 90)]\n"
     ]
    }
   ],
   "source": [
    "import cx_Oracle\n",
    "print('chercher 3 element de la table employees')\n",
    "\n",
    "con = cx_Oracle.connect(user=r'hr', password='hr', dsn='localhost/xe',)\n",
    "cur = con.cursor()\n",
    "\n",
    "cur.execute(\"select * from employees\")\n",
    "res = cur.fetchmany(numRows = 3)\n",
    "print(res)"
   ]
  },
  {
   "cell_type": "markdown",
   "id": "97bf5184",
   "metadata": {},
   "source": [
    "### scrolable cursors\n",
    "Les curseurs déroulants permettent à l'application de se déplacer vers l'avant ou l'arrière dans les résultats de la requête. Ils peuvent être utilisés pour sauter des lignes ou pour se déplacer vers une ligne particulière."
   ]
  },
  {
   "cell_type": "code",
   "execution_count": 13,
   "id": "2d34e75b",
   "metadata": {},
   "outputs": [
    {
     "name": "stdout",
     "output_type": "stream",
     "text": [
      "(102, 'Lex', 'De Haan', 'LDEHAAN', '515.123.4569', datetime.datetime(2001, 1, 13, 0, 0), 'AD_VP', 17000.0, None, 100, 90)\n",
      "(101, 'Neena', 'Kochhar', 'NKOCHHAR', '515.123.4568', datetime.datetime(2005, 9, 21, 0, 0), 'AD_VP', 17000.0, None, 100, 90)\n"
     ]
    }
   ],
   "source": [
    "import cx_Oracle\n",
    "\n",
    "\n",
    "\n",
    "con = cx_Oracle.connect(user=r'hr', password='hr', dsn='localhost/xe',)\n",
    "cur = con.cursor(scrollable = True)\n",
    "\n",
    "cur.execute(\"select * from employees\")\n",
    "\n",
    "cur.scroll(3, mode = \"absolute\")  # go to second row\n",
    "print(cur.fetchone())\n",
    "\n",
    "cur.scroll(-1)                    # go back one row\n",
    "print(cur.fetchone())"
   ]
  },
  {
   "cell_type": "markdown",
   "id": "cdffffff",
   "metadata": {},
   "source": [
    "## Données de liaison\n",
    "\n",
    "Les variables Bind vous permettent de réexécuter des instructions avec de nouvelles valeurs de données sans avoir à ré-analyser l'instruction. La liaison améliore la réutilisation du code, l'évolutivité des applications et peut réduire le risque d'attaques par injection SQL. L'utilisation des variables de liaison est fortement recommandée."
   ]
  },
  {
   "cell_type": "markdown",
   "id": "ef04b074",
   "metadata": {},
   "source": [
    "### Liaison dans SELECT\n",
    "L'instruction contient un espace réservé à la variable bind \":id\". L'instruction est exécutée deux fois avec des valeurs différentes pour la clause WHERE."
   ]
  },
  {
   "cell_type": "code",
   "execution_count": 15,
   "id": "393bfdfd",
   "metadata": {},
   "outputs": [
    {
     "name": "stdout",
     "output_type": "stream",
     "text": [
      "[(100, 'Steven', 'King', 'SKING', '515.123.4567', datetime.datetime(2003, 6, 17, 0, 0), 'AD_PRES', 24000.0, None, None, 90)]\n",
      "[(120, 'Matthew', 'Weiss', 'MWEISS', '650.123.1234', datetime.datetime(2004, 7, 18, 0, 0), 'ST_MAN', 8000.0, None, 100, 50)]\n"
     ]
    }
   ],
   "source": [
    "import cx_Oracle\n",
    "\n",
    "con = cx_Oracle.connect(user=r'hr', password='hr', dsn='localhost/xe')\n",
    "cur = con.cursor()\n",
    "\n",
    "sql = \"select * from employees where employee_id = :id order by employee_id\"\n",
    "\n",
    "cur.execute(sql, id = 100)\n",
    "res = cur.fetchall()\n",
    "print(res)\n",
    "\n",
    "cur.execute(sql, id = 120)\n",
    "res = cur.fetchall()\n",
    "print(res)"
   ]
  },
  {
   "cell_type": "markdown",
   "id": "d0ef723b",
   "metadata": {},
   "source": [
    "### Liaison dans INSERTs\n",
    "\n",
    "dans cette example on va creer une table (my_tap) avec un simple schema , un id , et une chaine de caractères\n",
    "Le tableau 'rows' contient les données à insérer.\n",
    "\n",
    "L'appel executemany() insère toutes les lignes. Cet appel utilise le \"array binding\", qui est un moyen efficace d'insérer plusieurs enregistrements.\n",
    "\n",
    "La dernière partie du script interroge les résultats et les affiche sous forme de liste de tuples."
   ]
  },
  {
   "cell_type": "code",
   "execution_count": 27,
   "id": "bff8a1e0",
   "metadata": {},
   "outputs": [
    {
     "name": "stdout",
     "output_type": "stream",
     "text": [
      "[(1, 'First'), (2, 'Second'), (3, 'Third'), (4, 'Fourth'), (5, 'Fifth'), (6, 'Sixth'), (7, 'Seventh')]\n"
     ]
    }
   ],
   "source": [
    "import cx_Oracle\n",
    "\n",
    "con = cx_Oracle.connect(user=r'hr', password='hr', dsn='localhost/xe')\n",
    "cur = con.cursor()\n",
    "sql_delete = \"drop table mytab\"\n",
    "sql = \"create  table mytab (id number, data varchar2(20), constraint my_pk primary key (id))\"\n",
    "cur.execute(sql_delete)\n",
    "cur.execute(sql)\n",
    "\n",
    "\n",
    "\n",
    "rows = [ (1, \"First\" ), (2, \"Second\" ),\n",
    "         (3, \"Third\" ), (4, \"Fourth\" ),\n",
    "         (5, \"Fifth\" ), (6, \"Sixth\" ),\n",
    "         (7, \"Seventh\" ) ]\n",
    "\n",
    "cur.executemany(\"insert into mytab(id, data) values (:1, :2)\", rows)\n",
    "\n",
    "# Now query the results back\n",
    "\n",
    "cur2 = con.cursor()\n",
    "cur2.execute('select * from mytab')\n",
    "res = cur2.fetchall()\n",
    "print(res)\n"
   ]
  },
  {
   "cell_type": "markdown",
   "id": "48feea15",
   "metadata": {},
   "source": [
    "### Batcherrors\n",
    "La fonctionnalité Batcherrors permet d'identifier les données invalides tout en autorisant l'insertion de données valides.\n",
    "\n",
    "Modifiez les valeurs des données dans bind_insert.py et créez une ligne avec une clé dupliquée :"
   ]
  },
  {
   "cell_type": "markdown",
   "id": "670c369b",
   "metadata": {},
   "source": [
    "Le nouveau code montre la ligne en double incriminée : \"ORA-00001 : unique constraint (PYTHONHOL.MY_PK) violated at row offset 6\". Cela indique que la 6ème valeur de données (en partant de 0) avait un problème."
   ]
  },
  {
   "cell_type": "code",
   "execution_count": 28,
   "id": "dc645685",
   "metadata": {},
   "outputs": [
    {
     "name": "stdout",
     "output_type": "stream",
     "text": [
      "Error ORA-00001: unique constraint (HR.MY_PK) violated at row offset 0\n",
      "Error ORA-00001: unique constraint (HR.MY_PK) violated at row offset 1\n",
      "Error ORA-00001: unique constraint (HR.MY_PK) violated at row offset 2\n",
      "Error ORA-00001: unique constraint (HR.MY_PK) violated at row offset 3\n",
      "Error ORA-00001: unique constraint (HR.MY_PK) violated at row offset 4\n",
      "Error ORA-00001: unique constraint (HR.MY_PK) violated at row offset 5\n",
      "Error ORA-00001: unique constraint (HR.MY_PK) violated at row offset 6\n",
      "Error ORA-00001: unique constraint (HR.MY_PK) violated at row offset 7\n",
      "[(1, 'First'), (2, 'Second'), (3, 'Third'), (4, 'Fourth'), (5, 'Fifth'), (6, 'Sixth'), (7, 'Seventh')]\n"
     ]
    }
   ],
   "source": [
    "import cx_Oracle\n",
    "\n",
    "cur = con.cursor()\n",
    "\n",
    "rows = [ (1, \"First\" ), (2, \"Second\" ),\n",
    "         (3, \"Third\" ), (4, \"Fourth\" ),\n",
    "         (5, \"Fifth\" ), (6, \"Sixth\" ),\n",
    "         (6, \"Duplicate\" ),\n",
    "         (7, \"Seventh\" ) ]\n",
    "\n",
    "cur.executemany(\"insert into mytab(id, data) values (:1, :2)\", rows, batcherrors = True)\n",
    "\n",
    "for error in cur.getbatcherrors():\n",
    "    print(\"Error\", error.message.rstrip(), \"at row offset\", error.offset)\n",
    "\n",
    "# Now query the results back\n",
    "\n",
    "cur2 = con.cursor()\n",
    "cur2.execute('select * from mytab')\n",
    "res = cur2.fetchall()\n",
    "print(res)"
   ]
  },
  {
   "cell_type": "markdown",
   "id": "82ea0ee1",
   "metadata": {},
   "source": [
    "## PL/SQL\n",
    "\n",
    "PL/SQL est l'extension du langage procédural d'Oracle à SQL. Les procédures et fonctions PL/SQL sont stockées et exécutées dans la base de données. L'utilisation de PL/SQL permet à toutes les applications de base de données de réutiliser la logique, quelle que soit la manière dont l'application accède à la base de données. De nombreuses opérations liées aux données peuvent être effectuées en PL/SQL plus rapidement qu'en extrayant les données dans un programme (par exemple, Python) et en les traitant ensuite.\n",
    "\n",
    "### les fonctios pl/sql\n",
    "Examinez le fichier plsql_func.sql qui crée une fonction stockée PL/SQL myfunc() pour insérer une ligne dans une nouvelle table nommée ptab et renvoyer le double de la valeur insérée :\n",
    "\n",
    "|execution de la fonction|\n",
    "|:------------:|\n",
    "![schema](https://raw.githubusercontent.com/abdelghanimeliani/cx_oracle-examples/master/images/pl_sql_fuction.PNG?token=GHSAT0AAAAAABQADLGZATYHBTICGSTHGA4YYVBLIVA)|\n"
   ]
  },
  {
   "cell_type": "code",
   "execution_count": 30,
   "id": "6d8ef6be",
   "metadata": {},
   "outputs": [
    {
     "name": "stdout",
     "output_type": "stream",
     "text": [
      "le resultat est :  4\n"
     ]
    }
   ],
   "source": [
    "import cx_Oracle\n",
    "\n",
    "cur = con.cursor()\n",
    "\n",
    "res = cur.callfunc('myfunc', int, ('abc', 2))\n",
    "print(\"le resultat est : \" , res)"
   ]
  },
  {
   "cell_type": "markdown",
   "id": "f90277b7",
   "metadata": {},
   "source": [
    "Ceci utilise callfunc() pour exécuter la fonction. Le deuxième paramètre est le type de la valeur retournée. Il doit être l'un des types pris en charge par cx_Oracle ou l'une des constantes de type définies par cx_Oracle (comme cx_Oracle.NUMBER). Les deux paramètres de la fonction PL/SQL sont transmis sous forme de tuple, les liant aux arguments des paramètres de la fonction."
   ]
  },
  {
   "cell_type": "markdown",
   "id": "f5517d9e",
   "metadata": {},
   "source": [
    "### les fonctios pl/sql\n",
    "Examinez le fichier plsql_proc.sql qui crée une procédure PL/SQL myproc() pour accepter deux paramètres. Le deuxième paramètre contient une valeur de retour OUT.\n",
    "\n",
    "|execution de la fonction|\n",
    "|:------------:|\n",
    "![schema](https://raw.githubusercontent.com/abdelghanimeliani/cx_oracle-examples/master/images/pl_sql_procedure.PNG?token=GHSAT0AAAAAABQADLGYY7SKWZHC3J5SWESSYVBLJAA)|"
   ]
  },
  {
   "cell_type": "code",
   "execution_count": 31,
   "id": "5b4bb03c",
   "metadata": {},
   "outputs": [
    {
     "name": "stdout",
     "output_type": "stream",
     "text": [
      "246\n"
     ]
    }
   ],
   "source": [
    "cur = con.cursor()\n",
    "\n",
    "myvar = cur.var(int)\n",
    "cur.callproc('myproc', (123, myvar))\n",
    "print(myvar.getvalue())"
   ]
  },
  {
   "cell_type": "code",
   "execution_count": null,
   "id": "d8205e04",
   "metadata": {},
   "outputs": [],
   "source": []
  },
  {
   "cell_type": "code",
   "execution_count": null,
   "id": "59fac1f5",
   "metadata": {},
   "outputs": [],
   "source": []
  },
  {
   "cell_type": "markdown",
   "id": "98d6ac85",
   "metadata": {},
   "source": []
  },
  {
   "cell_type": "markdown",
   "id": "8688a397",
   "metadata": {},
   "source": []
  },
  {
   "cell_type": "code",
   "execution_count": null,
   "id": "40c317da",
   "metadata": {},
   "outputs": [],
   "source": []
  },
  {
   "cell_type": "markdown",
   "id": "a4b70c9f",
   "metadata": {},
   "source": []
  },
  {
   "cell_type": "code",
   "execution_count": null,
   "id": "f2b45629",
   "metadata": {},
   "outputs": [],
   "source": []
  },
  {
   "cell_type": "code",
   "execution_count": null,
   "id": "3aa1ebf8",
   "metadata": {},
   "outputs": [],
   "source": []
  },
  {
   "cell_type": "markdown",
   "id": "3db47703",
   "metadata": {},
   "source": []
  }
 ],
 "metadata": {
  "interpreter": {
   "hash": "e61bd8b0a13d4c7feb8d281728ded08f460fac102e59a03a4663eaf8344307c0"
  },
  "kernelspec": {
   "display_name": "Python 3.9.13 64-bit (windows store)",
   "language": "python",
   "name": "python3"
  },
  "language_info": {
   "codemirror_mode": {
    "name": "ipython",
    "version": 3
   },
   "file_extension": ".py",
   "mimetype": "text/x-python",
   "name": "python",
   "nbconvert_exporter": "python",
   "pygments_lexer": "ipython3",
   "version": "3.9.13"
  }
 },
 "nbformat": 4,
 "nbformat_minor": 5
}
